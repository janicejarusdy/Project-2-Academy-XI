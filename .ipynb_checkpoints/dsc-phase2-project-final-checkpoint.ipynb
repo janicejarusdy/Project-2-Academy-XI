{
 "cells": [
  {
   "cell_type": "markdown",
   "metadata": {},
   "source": [
    "# New Movie Studio Recommendations\n",
    "\n",
    "**Authors:** Janice Teguh\n",
    "***"
   ]
  },
  {
   "cell_type": "markdown",
   "metadata": {},
   "source": [
    "## Overview\n",
    "\n",
    "This project analyzes the recent landscape and trends of the movie industry to form recommendations for Microsoft's new movie studio. Descriptive analysis of box office data shows that there are correlations between the performance of a movie release with seasonality, popularity, and genre. Microsoft can use this analysis to adjust their planning of first movie release to improve chances of getting a box office/ high domestic and foreign gross."
   ]
  },
  {
   "cell_type": "markdown",
   "metadata": {},
   "source": [
    "## Business Problem\n",
    "\n",
    "Microsoft is looking to expand their business into the movie industry, but lack the knowledge of the recent trends or landscape. This knowledge is essential for forming a strategy for a successful first movie release. Using box office and ratings data from The Numbers, Box Office Mojo, Rotten Tomatoes, TheMovieDB, and IMDb, I describe correlations between seasonality, popularity, and genre of a movie with its performance in box office - which Microsoft can use in planning for their first movie."
   ]
  },
  {
   "cell_type": "markdown",
   "metadata": {},
   "source": [
    "## Data Understanding\n",
    "\n",
    "- Data from The Numbers consists of movie id, release date, titles, production budget, domestic gross, worldwide gross\n",
    "- Data from Box Office Mojo consists of movie title, studio, domestic gross, and foreign gross\n",
    "- Data from Rotten Tomatoes (Info) consists of movie id, synopsis, rating, genre, director, writer, theater date, box office, runtime, studio\n",
    "- Data from Rotten Tomatoes (Review) consists of movie id, review, rating, fresh, critic, top_critic, publisher, date\n",
    "- Data from The Movie Database consists of genre ids, movie id, original language, original title, popularity, release date, title, vote average, vote count\n",
    "- Data from IMDb consists of many tables consisting of movie title, number of votes, average rating, regions the movie was released in, and people involved in the movie production.\n",
    "\n",
    "The properties that I will focus on for this analysis are release season, domestic gross, foreign and worldwide gross, genre,  box office, and audience reception."
   ]
  },
  {
   "cell_type": "code",
   "execution_count": 1,
   "metadata": {},
   "outputs": [],
   "source": [
    "# Import standard packages\n",
    "import pandas as pd\n",
    "import numpy as np\n",
    "import matplotlib.pyplot as plt\n",
    "import seaborn as sns\n",
    "import statsmodels.api as sm\n",
    "import statsmodels.formula.api as smf\n",
    "import sqlite3\n",
    "\n",
    "plt.style.use('ggplot')\n",
    "pd.set_option('display.max_columns', 200)\n",
    "\n",
    "%matplotlib inline"
   ]
  },
  {
   "cell_type": "code",
   "execution_count": 2,
   "metadata": {},
   "outputs": [
    {
     "name": "stdout",
     "output_type": "stream",
     "text": [
      "<class 'pandas.core.frame.DataFrame'>\n",
      "RangeIndex: 5782 entries, 0 to 5781\n",
      "Data columns (total 6 columns):\n",
      " #   Column             Non-Null Count  Dtype \n",
      "---  ------             --------------  ----- \n",
      " 0   id                 5782 non-null   int64 \n",
      " 1   release_date       5782 non-null   object\n",
      " 2   movie              5782 non-null   object\n",
      " 3   production_budget  5782 non-null   object\n",
      " 4   domestic_gross     5782 non-null   object\n",
      " 5   worldwide_gross    5782 non-null   object\n",
      "dtypes: int64(1), object(5)\n",
      "memory usage: 271.2+ KB\n"
     ]
    }
   ],
   "source": [
    "#load data from The Numbers\n",
    "movie_budgets = pd.read_csv('./Data/tn.movie_budgets.csv')\n",
    "movie_budgets.info()"
   ]
  },
  {
   "cell_type": "code",
   "execution_count": 3,
   "metadata": {},
   "outputs": [
    {
     "name": "stdout",
     "output_type": "stream",
     "text": [
      "<class 'pandas.core.frame.DataFrame'>\n",
      "RangeIndex: 3387 entries, 0 to 3386\n",
      "Data columns (total 5 columns):\n",
      " #   Column          Non-Null Count  Dtype  \n",
      "---  ------          --------------  -----  \n",
      " 0   title           3387 non-null   object \n",
      " 1   studio          3382 non-null   object \n",
      " 2   domestic_gross  3359 non-null   float64\n",
      " 3   foreign_gross   2037 non-null   object \n",
      " 4   year            3387 non-null   int64  \n",
      "dtypes: float64(1), int64(1), object(3)\n",
      "memory usage: 132.4+ KB\n"
     ]
    }
   ],
   "source": [
    "#load data from Box Office Mojo\n",
    "movie_gross = pd.read_csv('./Data/bom.movie_gross.csv')\n",
    "movie_gross.info()"
   ]
  },
  {
   "cell_type": "code",
   "execution_count": 4,
   "metadata": {},
   "outputs": [],
   "source": [
    "#load data from Rotten Tomatoes movie info and reviews\n",
    "movie_info = pd.read_csv('./Data/rt.movie_info.tsv', sep='\\t')\n",
    "rt_reviews = pd.read_csv('./Data/rt.reviews.tsv', sep='\\t', encoding='windows-1252')\n",
    "\n",
    "#for one movie id, there are a couple reviews. Need to merge reviews before merging rt_reviews with movie info"
   ]
  },
  {
   "cell_type": "code",
   "execution_count": 5,
   "metadata": {},
   "outputs": [
    {
     "name": "stdout",
     "output_type": "stream",
     "text": [
      "<class 'pandas.core.frame.DataFrame'>\n",
      "RangeIndex: 1560 entries, 0 to 1559\n",
      "Data columns (total 12 columns):\n",
      " #   Column        Non-Null Count  Dtype \n",
      "---  ------        --------------  ----- \n",
      " 0   id            1560 non-null   int64 \n",
      " 1   synopsis      1498 non-null   object\n",
      " 2   rating        1557 non-null   object\n",
      " 3   genre         1552 non-null   object\n",
      " 4   director      1361 non-null   object\n",
      " 5   writer        1111 non-null   object\n",
      " 6   theater_date  1201 non-null   object\n",
      " 7   dvd_date      1201 non-null   object\n",
      " 8   currency      340 non-null    object\n",
      " 9   box_office    340 non-null    object\n",
      " 10  runtime       1530 non-null   object\n",
      " 11  studio        494 non-null    object\n",
      "dtypes: int64(1), object(11)\n",
      "memory usage: 146.4+ KB\n"
     ]
    }
   ],
   "source": [
    "movie_info.info()"
   ]
  },
  {
   "cell_type": "code",
   "execution_count": 6,
   "metadata": {},
   "outputs": [
    {
     "name": "stdout",
     "output_type": "stream",
     "text": [
      "<class 'pandas.core.frame.DataFrame'>\n",
      "RangeIndex: 54432 entries, 0 to 54431\n",
      "Data columns (total 8 columns):\n",
      " #   Column      Non-Null Count  Dtype \n",
      "---  ------      --------------  ----- \n",
      " 0   id          54432 non-null  int64 \n",
      " 1   review      48869 non-null  object\n",
      " 2   rating      40915 non-null  object\n",
      " 3   fresh       54432 non-null  object\n",
      " 4   critic      51710 non-null  object\n",
      " 5   top_critic  54432 non-null  int64 \n",
      " 6   publisher   54123 non-null  object\n",
      " 7   date        54432 non-null  object\n",
      "dtypes: int64(2), object(6)\n",
      "memory usage: 3.3+ MB\n"
     ]
    }
   ],
   "source": [
    "rt_reviews.info()"
   ]
  },
  {
   "cell_type": "code",
   "execution_count": 7,
   "metadata": {},
   "outputs": [],
   "source": [
    "#load data from The Movie Database\n",
    "tmdb_movies = pd.read_csv('./Data/tmdb.movies.csv')"
   ]
  },
  {
   "cell_type": "code",
   "execution_count": 8,
   "metadata": {},
   "outputs": [
    {
     "name": "stdout",
     "output_type": "stream",
     "text": [
      "<class 'pandas.core.frame.DataFrame'>\n",
      "RangeIndex: 26517 entries, 0 to 26516\n",
      "Data columns (total 10 columns):\n",
      " #   Column             Non-Null Count  Dtype  \n",
      "---  ------             --------------  -----  \n",
      " 0   Unnamed: 0         26517 non-null  int64  \n",
      " 1   genre_ids          26517 non-null  object \n",
      " 2   id                 26517 non-null  int64  \n",
      " 3   original_language  26517 non-null  object \n",
      " 4   original_title     26517 non-null  object \n",
      " 5   popularity         26517 non-null  float64\n",
      " 6   release_date       26517 non-null  object \n",
      " 7   title              26517 non-null  object \n",
      " 8   vote_average       26517 non-null  float64\n",
      " 9   vote_count         26517 non-null  int64  \n",
      "dtypes: float64(2), int64(3), object(5)\n",
      "memory usage: 2.0+ MB\n"
     ]
    }
   ],
   "source": [
    "tmdb_movies.info()"
   ]
  },
  {
   "cell_type": "code",
   "execution_count": 9,
   "metadata": {},
   "outputs": [
    {
     "name": "stdout",
     "output_type": "stream",
     "text": [
      "Empty DataFrame\n",
      "Columns: [name]\n",
      "Index: []\n"
     ]
    }
   ],
   "source": [
    "#opening im.db\n",
    "conn = sqlite3.connect('./Data/im.db')\n",
    "cursor = conn.cursor()\n",
    "\n",
    "#checking all tables are imported from im.db\n",
    "tables = pd.read_sql(\"SELECT name FROM sqlite_master WHERE type='table';\", conn)\n",
    "print(tables)"
   ]
  },
  {
   "cell_type": "markdown",
   "metadata": {},
   "source": [
    "## Data Preparation\n"
   ]
  },
  {
   "cell_type": "code",
   "execution_count": 10,
   "metadata": {},
   "outputs": [],
   "source": [
    "#check for duplicates, resulting in no duplicates\n",
    "movie_budgets = movie_budgets.loc[~movie_budgets.duplicated()]\n",
    "movie_gross = movie_gross.loc[~movie_gross.duplicated()]\n",
    "movie_info = movie_info.loc[~movie_info.duplicated()]\n",
    "rt_reviews = rt_reviews.loc[~rt_reviews.duplicated()]\n",
    "tmdb_movies = tmdb_movies.loc[~tmdb_movies.duplicated()]"
   ]
  },
  {
   "cell_type": "code",
   "execution_count": 11,
   "metadata": {},
   "outputs": [
    {
     "data": {
      "text/html": [
       "<div>\n",
       "<style scoped>\n",
       "    .dataframe tbody tr th:only-of-type {\n",
       "        vertical-align: middle;\n",
       "    }\n",
       "\n",
       "    .dataframe tbody tr th {\n",
       "        vertical-align: top;\n",
       "    }\n",
       "\n",
       "    .dataframe thead th {\n",
       "        text-align: right;\n",
       "    }\n",
       "</style>\n",
       "<table border=\"1\" class=\"dataframe\">\n",
       "  <thead>\n",
       "    <tr style=\"text-align: right;\">\n",
       "      <th></th>\n",
       "      <th>id</th>\n",
       "      <th>release_date</th>\n",
       "      <th>title</th>\n",
       "      <th>production_budget</th>\n",
       "      <th>domestic_gross</th>\n",
       "      <th>worldwide_gross</th>\n",
       "      <th>year</th>\n",
       "      <th>month</th>\n",
       "    </tr>\n",
       "  </thead>\n",
       "  <tbody>\n",
       "    <tr>\n",
       "      <th>0</th>\n",
       "      <td>1</td>\n",
       "      <td>2009-12-18</td>\n",
       "      <td>Avatar</td>\n",
       "      <td>$425,000,000</td>\n",
       "      <td>$760,507,625</td>\n",
       "      <td>$2,776,345,279</td>\n",
       "      <td>2009</td>\n",
       "      <td>12</td>\n",
       "    </tr>\n",
       "    <tr>\n",
       "      <th>1</th>\n",
       "      <td>2</td>\n",
       "      <td>2011-05-20</td>\n",
       "      <td>Pirates of the Caribbean: On Stranger Tides</td>\n",
       "      <td>$410,600,000</td>\n",
       "      <td>$241,063,875</td>\n",
       "      <td>$1,045,663,875</td>\n",
       "      <td>2011</td>\n",
       "      <td>5</td>\n",
       "    </tr>\n",
       "    <tr>\n",
       "      <th>2</th>\n",
       "      <td>3</td>\n",
       "      <td>2019-06-07</td>\n",
       "      <td>Dark Phoenix</td>\n",
       "      <td>$350,000,000</td>\n",
       "      <td>$42,762,350</td>\n",
       "      <td>$149,762,350</td>\n",
       "      <td>2019</td>\n",
       "      <td>6</td>\n",
       "    </tr>\n",
       "    <tr>\n",
       "      <th>3</th>\n",
       "      <td>4</td>\n",
       "      <td>2015-05-01</td>\n",
       "      <td>Avengers: Age of Ultron</td>\n",
       "      <td>$330,600,000</td>\n",
       "      <td>$459,005,868</td>\n",
       "      <td>$1,403,013,963</td>\n",
       "      <td>2015</td>\n",
       "      <td>5</td>\n",
       "    </tr>\n",
       "    <tr>\n",
       "      <th>4</th>\n",
       "      <td>5</td>\n",
       "      <td>2017-12-15</td>\n",
       "      <td>Star Wars Ep. VIII: The Last Jedi</td>\n",
       "      <td>$317,000,000</td>\n",
       "      <td>$620,181,382</td>\n",
       "      <td>$1,316,721,747</td>\n",
       "      <td>2017</td>\n",
       "      <td>12</td>\n",
       "    </tr>\n",
       "    <tr>\n",
       "      <th>...</th>\n",
       "      <td>...</td>\n",
       "      <td>...</td>\n",
       "      <td>...</td>\n",
       "      <td>...</td>\n",
       "      <td>...</td>\n",
       "      <td>...</td>\n",
       "      <td>...</td>\n",
       "      <td>...</td>\n",
       "    </tr>\n",
       "    <tr>\n",
       "      <th>5777</th>\n",
       "      <td>78</td>\n",
       "      <td>2018-12-31</td>\n",
       "      <td>Red 11</td>\n",
       "      <td>$7,000</td>\n",
       "      <td>$0</td>\n",
       "      <td>$0</td>\n",
       "      <td>2018</td>\n",
       "      <td>12</td>\n",
       "    </tr>\n",
       "    <tr>\n",
       "      <th>5778</th>\n",
       "      <td>79</td>\n",
       "      <td>1999-04-02</td>\n",
       "      <td>Following</td>\n",
       "      <td>$6,000</td>\n",
       "      <td>$48,482</td>\n",
       "      <td>$240,495</td>\n",
       "      <td>1999</td>\n",
       "      <td>4</td>\n",
       "    </tr>\n",
       "    <tr>\n",
       "      <th>5779</th>\n",
       "      <td>80</td>\n",
       "      <td>2005-07-13</td>\n",
       "      <td>Return to the Land of Wonders</td>\n",
       "      <td>$5,000</td>\n",
       "      <td>$1,338</td>\n",
       "      <td>$1,338</td>\n",
       "      <td>2005</td>\n",
       "      <td>7</td>\n",
       "    </tr>\n",
       "    <tr>\n",
       "      <th>5780</th>\n",
       "      <td>81</td>\n",
       "      <td>2015-09-29</td>\n",
       "      <td>A Plague So Pleasant</td>\n",
       "      <td>$1,400</td>\n",
       "      <td>$0</td>\n",
       "      <td>$0</td>\n",
       "      <td>2015</td>\n",
       "      <td>9</td>\n",
       "    </tr>\n",
       "    <tr>\n",
       "      <th>5781</th>\n",
       "      <td>82</td>\n",
       "      <td>2005-08-05</td>\n",
       "      <td>My Date With Drew</td>\n",
       "      <td>$1,100</td>\n",
       "      <td>$181,041</td>\n",
       "      <td>$181,041</td>\n",
       "      <td>2005</td>\n",
       "      <td>8</td>\n",
       "    </tr>\n",
       "  </tbody>\n",
       "</table>\n",
       "<p>5782 rows × 8 columns</p>\n",
       "</div>"
      ],
      "text/plain": [
       "      id release_date                                        title  \\\n",
       "0      1   2009-12-18                                       Avatar   \n",
       "1      2   2011-05-20  Pirates of the Caribbean: On Stranger Tides   \n",
       "2      3   2019-06-07                                 Dark Phoenix   \n",
       "3      4   2015-05-01                      Avengers: Age of Ultron   \n",
       "4      5   2017-12-15            Star Wars Ep. VIII: The Last Jedi   \n",
       "...   ..          ...                                          ...   \n",
       "5777  78   2018-12-31                                       Red 11   \n",
       "5778  79   1999-04-02                                    Following   \n",
       "5779  80   2005-07-13                Return to the Land of Wonders   \n",
       "5780  81   2015-09-29                         A Plague So Pleasant   \n",
       "5781  82   2005-08-05                            My Date With Drew   \n",
       "\n",
       "     production_budget domestic_gross worldwide_gross  year  month  \n",
       "0         $425,000,000   $760,507,625  $2,776,345,279  2009     12  \n",
       "1         $410,600,000   $241,063,875  $1,045,663,875  2011      5  \n",
       "2         $350,000,000    $42,762,350    $149,762,350  2019      6  \n",
       "3         $330,600,000   $459,005,868  $1,403,013,963  2015      5  \n",
       "4         $317,000,000   $620,181,382  $1,316,721,747  2017     12  \n",
       "...                ...            ...             ...   ...    ...  \n",
       "5777            $7,000             $0              $0  2018     12  \n",
       "5778            $6,000        $48,482        $240,495  1999      4  \n",
       "5779            $5,000         $1,338          $1,338  2005      7  \n",
       "5780            $1,400             $0              $0  2015      9  \n",
       "5781            $1,100       $181,041        $181,041  2005      8  \n",
       "\n",
       "[5782 rows x 8 columns]"
      ]
     },
     "execution_count": 11,
     "metadata": {},
     "output_type": "execute_result"
    }
   ],
   "source": [
    "#preparing_movie_budgets\n",
    "#Set data type as date and time, convert data as required\n",
    "movie_budgets[\"release_date\"] = pd.to_datetime(movie_budgets[\"release_date\"]) \n",
    "movie_budgets[\"year\"] = movie_budgets[\"release_date\"].dt.year.astype(int)\n",
    "movie_budgets[\"month\"] = movie_budgets[\"release_date\"].dt.month.astype(int)\n",
    "\n",
    "#rename movie column to title\n",
    "movie_budgets = movie_budgets.rename(columns={\"movie\":\"title\"})\n",
    "movie_budgets"
   ]
  },
  {
   "cell_type": "code",
   "execution_count": 12,
   "metadata": {},
   "outputs": [],
   "source": [
    "#remove $ and comma from currency string\n",
    "def convert_currency(string):\n",
    "    string = string.strip('$')\n",
    "    string = string.replace(',', '')\n",
    "\n",
    "    return string\n",
    "\n",
    "#convert any time/date or currency column to int64 dtype\n",
    "def convert_column(column):\n",
    "    column = column.map(lambda x: convert_currency(x))\n",
    "    column = column.astype(float)\n",
    "    return column"
   ]
  },
  {
   "cell_type": "code",
   "execution_count": 13,
   "metadata": {},
   "outputs": [
    {
     "name": "stdout",
     "output_type": "stream",
     "text": [
      "<class 'pandas.core.frame.DataFrame'>\n",
      "Index: 5782 entries, 0 to 5781\n",
      "Data columns (total 8 columns):\n",
      " #   Column             Non-Null Count  Dtype         \n",
      "---  ------             --------------  -----         \n",
      " 0   id                 5782 non-null   int64         \n",
      " 1   release_date       5782 non-null   datetime64[ns]\n",
      " 2   title              5782 non-null   object        \n",
      " 3   production_budget  5782 non-null   float64       \n",
      " 4   domestic_gross     5782 non-null   float64       \n",
      " 5   worldwide_gross    5782 non-null   float64       \n",
      " 6   year               5782 non-null   int64         \n",
      " 7   month              5782 non-null   int64         \n",
      "dtypes: datetime64[ns](1), float64(3), int64(3), object(1)\n",
      "memory usage: 406.5+ KB\n"
     ]
    }
   ],
   "source": [
    "#only run this cell once\n",
    "movie_budgets[\"production_budget\"] = convert_column(movie_budgets[\"production_budget\"])\n",
    "movie_budgets[\"domestic_gross\"] = convert_column(movie_budgets[\"domestic_gross\"])\n",
    "movie_budgets[\"worldwide_gross\"] = convert_column(movie_budgets[\"worldwide_gross\"])\n",
    "\n",
    "movie_budgets.info()"
   ]
  },
  {
   "cell_type": "code",
   "execution_count": 14,
   "metadata": {},
   "outputs": [
    {
     "data": {
      "text/plain": [
       "id                   0\n",
       "release_date         0\n",
       "title                0\n",
       "production_budget    0\n",
       "domestic_gross       0\n",
       "worldwide_gross      0\n",
       "year                 0\n",
       "month                0\n",
       "dtype: int64"
      ]
     },
     "execution_count": 14,
     "metadata": {},
     "output_type": "execute_result"
    }
   ],
   "source": [
    "#no more null values in all the columns\n",
    "movie_budgets.isna().sum()"
   ]
  },
  {
   "cell_type": "code",
   "execution_count": 15,
   "metadata": {},
   "outputs": [
    {
     "data": {
      "text/html": [
       "<div>\n",
       "<style scoped>\n",
       "    .dataframe tbody tr th:only-of-type {\n",
       "        vertical-align: middle;\n",
       "    }\n",
       "\n",
       "    .dataframe tbody tr th {\n",
       "        vertical-align: top;\n",
       "    }\n",
       "\n",
       "    .dataframe thead th {\n",
       "        text-align: right;\n",
       "    }\n",
       "</style>\n",
       "<table border=\"1\" class=\"dataframe\">\n",
       "  <thead>\n",
       "    <tr style=\"text-align: right;\">\n",
       "      <th></th>\n",
       "      <th>title</th>\n",
       "      <th>studio</th>\n",
       "      <th>domestic_gross</th>\n",
       "      <th>foreign_gross</th>\n",
       "      <th>year</th>\n",
       "    </tr>\n",
       "  </thead>\n",
       "  <tbody>\n",
       "    <tr>\n",
       "      <th>0</th>\n",
       "      <td>Toy Story 3</td>\n",
       "      <td>BV</td>\n",
       "      <td>415000000.0</td>\n",
       "      <td>652000000</td>\n",
       "      <td>2010</td>\n",
       "    </tr>\n",
       "    <tr>\n",
       "      <th>1</th>\n",
       "      <td>Alice in Wonderland (2010)</td>\n",
       "      <td>BV</td>\n",
       "      <td>334200000.0</td>\n",
       "      <td>691300000</td>\n",
       "      <td>2010</td>\n",
       "    </tr>\n",
       "    <tr>\n",
       "      <th>2</th>\n",
       "      <td>Harry Potter and the Deathly Hallows Part 1</td>\n",
       "      <td>WB</td>\n",
       "      <td>296000000.0</td>\n",
       "      <td>664300000</td>\n",
       "      <td>2010</td>\n",
       "    </tr>\n",
       "    <tr>\n",
       "      <th>3</th>\n",
       "      <td>Inception</td>\n",
       "      <td>WB</td>\n",
       "      <td>292600000.0</td>\n",
       "      <td>535700000</td>\n",
       "      <td>2010</td>\n",
       "    </tr>\n",
       "    <tr>\n",
       "      <th>4</th>\n",
       "      <td>Shrek Forever After</td>\n",
       "      <td>P/DW</td>\n",
       "      <td>238700000.0</td>\n",
       "      <td>513900000</td>\n",
       "      <td>2010</td>\n",
       "    </tr>\n",
       "    <tr>\n",
       "      <th>...</th>\n",
       "      <td>...</td>\n",
       "      <td>...</td>\n",
       "      <td>...</td>\n",
       "      <td>...</td>\n",
       "      <td>...</td>\n",
       "    </tr>\n",
       "    <tr>\n",
       "      <th>3382</th>\n",
       "      <td>The Quake</td>\n",
       "      <td>Magn.</td>\n",
       "      <td>6200.0</td>\n",
       "      <td>NaN</td>\n",
       "      <td>2018</td>\n",
       "    </tr>\n",
       "    <tr>\n",
       "      <th>3383</th>\n",
       "      <td>Edward II (2018 re-release)</td>\n",
       "      <td>FM</td>\n",
       "      <td>4800.0</td>\n",
       "      <td>NaN</td>\n",
       "      <td>2018</td>\n",
       "    </tr>\n",
       "    <tr>\n",
       "      <th>3384</th>\n",
       "      <td>El Pacto</td>\n",
       "      <td>Sony</td>\n",
       "      <td>2500.0</td>\n",
       "      <td>NaN</td>\n",
       "      <td>2018</td>\n",
       "    </tr>\n",
       "    <tr>\n",
       "      <th>3385</th>\n",
       "      <td>The Swan</td>\n",
       "      <td>Synergetic</td>\n",
       "      <td>2400.0</td>\n",
       "      <td>NaN</td>\n",
       "      <td>2018</td>\n",
       "    </tr>\n",
       "    <tr>\n",
       "      <th>3386</th>\n",
       "      <td>An Actor Prepares</td>\n",
       "      <td>Grav.</td>\n",
       "      <td>1700.0</td>\n",
       "      <td>NaN</td>\n",
       "      <td>2018</td>\n",
       "    </tr>\n",
       "  </tbody>\n",
       "</table>\n",
       "<p>3387 rows × 5 columns</p>\n",
       "</div>"
      ],
      "text/plain": [
       "                                            title      studio  domestic_gross  \\\n",
       "0                                     Toy Story 3          BV     415000000.0   \n",
       "1                      Alice in Wonderland (2010)          BV     334200000.0   \n",
       "2     Harry Potter and the Deathly Hallows Part 1          WB     296000000.0   \n",
       "3                                       Inception          WB     292600000.0   \n",
       "4                             Shrek Forever After        P/DW     238700000.0   \n",
       "...                                           ...         ...             ...   \n",
       "3382                                    The Quake       Magn.          6200.0   \n",
       "3383                  Edward II (2018 re-release)          FM          4800.0   \n",
       "3384                                     El Pacto        Sony          2500.0   \n",
       "3385                                     The Swan  Synergetic          2400.0   \n",
       "3386                            An Actor Prepares       Grav.          1700.0   \n",
       "\n",
       "     foreign_gross  year  \n",
       "0        652000000  2010  \n",
       "1        691300000  2010  \n",
       "2        664300000  2010  \n",
       "3        535700000  2010  \n",
       "4        513900000  2010  \n",
       "...            ...   ...  \n",
       "3382           NaN  2018  \n",
       "3383           NaN  2018  \n",
       "3384           NaN  2018  \n",
       "3385           NaN  2018  \n",
       "3386           NaN  2018  \n",
       "\n",
       "[3387 rows x 5 columns]"
      ]
     },
     "execution_count": 15,
     "metadata": {},
     "output_type": "execute_result"
    }
   ],
   "source": [
    "movie_gross"
   ]
  },
  {
   "cell_type": "code",
   "execution_count": 16,
   "metadata": {},
   "outputs": [
    {
     "name": "stdout",
     "output_type": "stream",
     "text": [
      "<class 'pandas.core.frame.DataFrame'>\n",
      "Index: 3387 entries, 0 to 3386\n",
      "Data columns (total 5 columns):\n",
      " #   Column          Non-Null Count  Dtype  \n",
      "---  ------          --------------  -----  \n",
      " 0   title           3387 non-null   object \n",
      " 1   studio          3387 non-null   object \n",
      " 2   domestic_gross  3387 non-null   float64\n",
      " 3   foreign_gross   3387 non-null   float64\n",
      " 4   year            3387 non-null   int64  \n",
      "dtypes: float64(2), int64(1), object(2)\n",
      "memory usage: 158.8+ KB\n"
     ]
    }
   ],
   "source": [
    "#preparing movie_gross\n",
    "#there were 1350 NaN values in \"Foreign Gross\" column (almost 40%) - add value of 500 as outlier\n",
    "movie_gross['foreign_gross'] = movie_gross['foreign_gross'].fillna(value=500)\n",
    "movie_gross[\"foreign_gross\"] = [float(str(i).replace(\",\", \"\")) for i in movie_gross[\"foreign_gross\"]]\n",
    "\n",
    "#fill n/a values with median in domestic gross\n",
    "movie_gross['domestic_gross'] = movie_gross['domestic_gross'].fillna(value=movie_gross['domestic_gross'].median())\n",
    "\n",
    "#rename N/A studios to \"N/A\"\n",
    "movie_gross[\"studio\"] = movie_gross[\"studio\"].fillna(value=\"N/A\")\n",
    "\n",
    "movie_gross.info()"
   ]
  },
  {
   "cell_type": "code",
   "execution_count": 17,
   "metadata": {},
   "outputs": [
    {
     "data": {
      "text/plain": [
       "title             0\n",
       "studio            0\n",
       "domestic_gross    0\n",
       "foreign_gross     0\n",
       "year              0\n",
       "dtype: int64"
      ]
     },
     "execution_count": 17,
     "metadata": {},
     "output_type": "execute_result"
    }
   ],
   "source": [
    "movie_gross.isna().sum()"
   ]
  },
  {
   "cell_type": "code",
   "execution_count": 18,
   "metadata": {},
   "outputs": [
    {
     "name": "stdout",
     "output_type": "stream",
     "text": [
      "<class 'pandas.core.frame.DataFrame'>\n",
      "Index: 332 entries, 1 to 1555\n",
      "Data columns (total 10 columns):\n",
      " #   Column        Non-Null Count  Dtype \n",
      "---  ------        --------------  ----- \n",
      " 0   id            332 non-null    int64 \n",
      " 1   synopsis      332 non-null    object\n",
      " 2   rating        332 non-null    object\n",
      " 3   genre         332 non-null    object\n",
      " 4   director      332 non-null    object\n",
      " 5   writer        332 non-null    object\n",
      " 6   theater_date  332 non-null    object\n",
      " 7   box_office    332 non-null    object\n",
      " 8   runtime       332 non-null    object\n",
      " 9   studio        332 non-null    object\n",
      "dtypes: int64(1), object(9)\n",
      "memory usage: 28.5+ KB\n"
     ]
    }
   ],
   "source": [
    "#preparing movie_info\n",
    "# removed movies that didn't make box office\n",
    "movie_info = movie_info.dropna(subset=['box_office'])\n",
    "movie_info.isna().sum()\n",
    "\n",
    "#remove runtime and theatre date column with N/A values\n",
    "movie_info = movie_info.dropna(subset=['runtime', \"theater_date\"])\n",
    "\n",
    "#drop irrelevant columns\n",
    "movie_info = movie_info.drop([\"dvd_date\", \"currency\"], axis=1)\n",
    "\n",
    "#filling N/A values in remaining columns with N/A\n",
    "movie_info[\"director\"] = movie_info[\"director\"].fillna(\"Unknown\")\n",
    "movie_info[\"writer\"] = movie_info[\"writer\"].fillna(\"Unknown\")\n",
    "movie_info[\"studio\"] = movie_info[\"studio\"].fillna(\"Unknown\")\n",
    "movie_info.info()"
   ]
  },
  {
   "cell_type": "code",
   "execution_count": 19,
   "metadata": {},
   "outputs": [
    {
     "data": {
      "text/plain": [
       "id              0\n",
       "synopsis        0\n",
       "rating          0\n",
       "genre           0\n",
       "director        0\n",
       "writer          0\n",
       "theater_date    0\n",
       "box_office      0\n",
       "runtime         0\n",
       "studio          0\n",
       "dtype: int64"
      ]
     },
     "execution_count": 19,
     "metadata": {},
     "output_type": "execute_result"
    }
   ],
   "source": [
    "#no more null values in movie_info\n",
    "movie_info.isna().sum()"
   ]
  },
  {
   "cell_type": "code",
   "execution_count": 20,
   "metadata": {},
   "outputs": [],
   "source": [
    "movie_info[\"box_office\"] = convert_column(movie_info[\"box_office\"])"
   ]
  },
  {
   "cell_type": "code",
   "execution_count": 21,
   "metadata": {},
   "outputs": [],
   "source": [
    "#prepare rt_reviews\n",
    "rt_reviews.dropna(subset=[\"rating\"], inplace=True)\n",
    "rt_reviews.drop([\"critic\",\"publisher\"],axis=1, inplace=True)"
   ]
  },
  {
   "cell_type": "code",
   "execution_count": 22,
   "metadata": {},
   "outputs": [
    {
     "name": "stdout",
     "output_type": "stream",
     "text": [
      "<class 'pandas.core.frame.DataFrame'>\n",
      "Index: 40907 entries, 0 to 54431\n",
      "Data columns (total 6 columns):\n",
      " #   Column      Non-Null Count  Dtype \n",
      "---  ------      --------------  ----- \n",
      " 0   id          40907 non-null  int64 \n",
      " 1   review      40907 non-null  object\n",
      " 2   rating      40907 non-null  object\n",
      " 3   fresh       40907 non-null  object\n",
      " 4   top_critic  40907 non-null  int64 \n",
      " 5   date        40907 non-null  object\n",
      "dtypes: int64(2), object(4)\n",
      "memory usage: 2.2+ MB\n"
     ]
    }
   ],
   "source": [
    "rt_reviews[\"review\"] = rt_reviews[\"review\"].fillna(value=\"No written review.\")\n",
    "rt_reviews.info()"
   ]
  },
  {
   "cell_type": "code",
   "execution_count": 23,
   "metadata": {},
   "outputs": [
    {
     "data": {
      "text/plain": [
       "id            0\n",
       "review        0\n",
       "rating        0\n",
       "fresh         0\n",
       "top_critic    0\n",
       "date          0\n",
       "dtype: int64"
      ]
     },
     "execution_count": 23,
     "metadata": {},
     "output_type": "execute_result"
    }
   ],
   "source": [
    "#no more null values in rt_reviews\n",
    "rt_reviews.isna().sum()"
   ]
  },
  {
   "cell_type": "code",
   "execution_count": 24,
   "metadata": {},
   "outputs": [
    {
     "data": {
      "text/html": [
       "<div>\n",
       "<style scoped>\n",
       "    .dataframe tbody tr th:only-of-type {\n",
       "        vertical-align: middle;\n",
       "    }\n",
       "\n",
       "    .dataframe tbody tr th {\n",
       "        vertical-align: top;\n",
       "    }\n",
       "\n",
       "    .dataframe thead th {\n",
       "        text-align: right;\n",
       "    }\n",
       "</style>\n",
       "<table border=\"1\" class=\"dataframe\">\n",
       "  <thead>\n",
       "    <tr style=\"text-align: right;\">\n",
       "      <th></th>\n",
       "      <th>id</th>\n",
       "      <th>review</th>\n",
       "      <th>rating</th>\n",
       "      <th>fresh</th>\n",
       "      <th>top_critic</th>\n",
       "      <th>date</th>\n",
       "      <th>fresh_number</th>\n",
       "    </tr>\n",
       "  </thead>\n",
       "  <tbody>\n",
       "    <tr>\n",
       "      <th>0</th>\n",
       "      <td>3</td>\n",
       "      <td>A distinctly gallows take on contemporary fina...</td>\n",
       "      <td>3/5</td>\n",
       "      <td>fresh</td>\n",
       "      <td>0</td>\n",
       "      <td>November 10, 2018</td>\n",
       "      <td>6.0</td>\n",
       "    </tr>\n",
       "    <tr>\n",
       "      <th>6</th>\n",
       "      <td>3</td>\n",
       "      <td>Quickly grows repetitive and tiresome, meander...</td>\n",
       "      <td>C</td>\n",
       "      <td>rotten</td>\n",
       "      <td>0</td>\n",
       "      <td>July 17, 2013</td>\n",
       "      <td>5.0</td>\n",
       "    </tr>\n",
       "    <tr>\n",
       "      <th>7</th>\n",
       "      <td>3</td>\n",
       "      <td>Cronenberg is not a director to be daunted by ...</td>\n",
       "      <td>2/5</td>\n",
       "      <td>rotten</td>\n",
       "      <td>0</td>\n",
       "      <td>April 21, 2013</td>\n",
       "      <td>4.0</td>\n",
       "    </tr>\n",
       "    <tr>\n",
       "      <th>11</th>\n",
       "      <td>3</td>\n",
       "      <td>While not one of Cronenberg's stronger films, ...</td>\n",
       "      <td>B-</td>\n",
       "      <td>fresh</td>\n",
       "      <td>0</td>\n",
       "      <td>February 3, 2013</td>\n",
       "      <td>7.5</td>\n",
       "    </tr>\n",
       "    <tr>\n",
       "      <th>12</th>\n",
       "      <td>3</td>\n",
       "      <td>Robert Pattinson works mighty hard to make Cos...</td>\n",
       "      <td>2/4</td>\n",
       "      <td>rotten</td>\n",
       "      <td>0</td>\n",
       "      <td>January 15, 2013</td>\n",
       "      <td>5.0</td>\n",
       "    </tr>\n",
       "    <tr>\n",
       "      <th>...</th>\n",
       "      <td>...</td>\n",
       "      <td>...</td>\n",
       "      <td>...</td>\n",
       "      <td>...</td>\n",
       "      <td>...</td>\n",
       "      <td>...</td>\n",
       "      <td>...</td>\n",
       "    </tr>\n",
       "    <tr>\n",
       "      <th>54424</th>\n",
       "      <td>2000</td>\n",
       "      <td>Dawdles and drags when it should pop; it doesn...</td>\n",
       "      <td>1.5/5</td>\n",
       "      <td>rotten</td>\n",
       "      <td>1</td>\n",
       "      <td>September 26, 2002</td>\n",
       "      <td>3.0</td>\n",
       "    </tr>\n",
       "    <tr>\n",
       "      <th>54428</th>\n",
       "      <td>2000</td>\n",
       "      <td>No written review.</td>\n",
       "      <td>1/5</td>\n",
       "      <td>rotten</td>\n",
       "      <td>0</td>\n",
       "      <td>September 21, 2005</td>\n",
       "      <td>2.0</td>\n",
       "    </tr>\n",
       "    <tr>\n",
       "      <th>54429</th>\n",
       "      <td>2000</td>\n",
       "      <td>No written review.</td>\n",
       "      <td>2/5</td>\n",
       "      <td>rotten</td>\n",
       "      <td>0</td>\n",
       "      <td>July 17, 2005</td>\n",
       "      <td>4.0</td>\n",
       "    </tr>\n",
       "    <tr>\n",
       "      <th>54430</th>\n",
       "      <td>2000</td>\n",
       "      <td>No written review.</td>\n",
       "      <td>2.5/5</td>\n",
       "      <td>rotten</td>\n",
       "      <td>0</td>\n",
       "      <td>September 7, 2003</td>\n",
       "      <td>5.0</td>\n",
       "    </tr>\n",
       "    <tr>\n",
       "      <th>54431</th>\n",
       "      <td>2000</td>\n",
       "      <td>No written review.</td>\n",
       "      <td>3/5</td>\n",
       "      <td>fresh</td>\n",
       "      <td>0</td>\n",
       "      <td>November 12, 2002</td>\n",
       "      <td>6.0</td>\n",
       "    </tr>\n",
       "  </tbody>\n",
       "</table>\n",
       "<p>40907 rows × 7 columns</p>\n",
       "</div>"
      ],
      "text/plain": [
       "         id                                             review rating   fresh  \\\n",
       "0         3  A distinctly gallows take on contemporary fina...    3/5   fresh   \n",
       "6         3  Quickly grows repetitive and tiresome, meander...      C  rotten   \n",
       "7         3  Cronenberg is not a director to be daunted by ...    2/5  rotten   \n",
       "11        3  While not one of Cronenberg's stronger films, ...     B-   fresh   \n",
       "12        3  Robert Pattinson works mighty hard to make Cos...    2/4  rotten   \n",
       "...     ...                                                ...    ...     ...   \n",
       "54424  2000  Dawdles and drags when it should pop; it doesn...  1.5/5  rotten   \n",
       "54428  2000                                 No written review.    1/5  rotten   \n",
       "54429  2000                                 No written review.    2/5  rotten   \n",
       "54430  2000                                 No written review.  2.5/5  rotten   \n",
       "54431  2000                                 No written review.    3/5   fresh   \n",
       "\n",
       "       top_critic                date  fresh_number  \n",
       "0               0   November 10, 2018           6.0  \n",
       "6               0       July 17, 2013           5.0  \n",
       "7               0      April 21, 2013           4.0  \n",
       "11              0    February 3, 2013           7.5  \n",
       "12              0    January 15, 2013           5.0  \n",
       "...           ...                 ...           ...  \n",
       "54424           1  September 26, 2002           3.0  \n",
       "54428           0  September 21, 2005           2.0  \n",
       "54429           0       July 17, 2005           4.0  \n",
       "54430           0   September 7, 2003           5.0  \n",
       "54431           0   November 12, 2002           6.0  \n",
       "\n",
       "[40907 rows x 7 columns]"
      ]
     },
     "execution_count": 24,
     "metadata": {},
     "output_type": "execute_result"
    }
   ],
   "source": [
    "#create singular review number for each movie id in rotten tomatoes\n",
    "review_letter = {\"N\":0.1, \"R\":1, \"T\":0.1, \"F\":0.1, \"A\":1, \"B\":0.75, \"C\":0.5, \"D\":0.25 }\n",
    "\n",
    "def change(grade):\n",
    "    if \"/\" in grade and \" \" not in grade:\n",
    "        numbers = grade.split(\"/\")\n",
    "        result = float(numbers[0]) / float(numbers[1])\n",
    "        return result\n",
    "    elif grade[0] in \"ABCDNRTF\":\n",
    "        result = float(review_letter[grade[0]])\n",
    "        return result\n",
    "    elif \".\" in grade:\n",
    "        return round(float(grade))\n",
    "    else:\n",
    "        return 3\n",
    "        \n",
    "rt_reviews[\"fresh_number\"] = rt_reviews[\"rating\"].apply(lambda x: float(change(x)*10))\n",
    "rt_reviews"
   ]
  },
  {
   "cell_type": "code",
   "execution_count": 25,
   "metadata": {},
   "outputs": [
    {
     "data": {
      "text/html": [
       "<div>\n",
       "<style scoped>\n",
       "    .dataframe tbody tr th:only-of-type {\n",
       "        vertical-align: middle;\n",
       "    }\n",
       "\n",
       "    .dataframe tbody tr th {\n",
       "        vertical-align: top;\n",
       "    }\n",
       "\n",
       "    .dataframe thead th {\n",
       "        text-align: right;\n",
       "    }\n",
       "</style>\n",
       "<table border=\"1\" class=\"dataframe\">\n",
       "  <thead>\n",
       "    <tr style=\"text-align: right;\">\n",
       "      <th></th>\n",
       "      <th>fresh_number</th>\n",
       "    </tr>\n",
       "    <tr>\n",
       "      <th>id</th>\n",
       "      <th></th>\n",
       "    </tr>\n",
       "  </thead>\n",
       "  <tbody>\n",
       "    <tr>\n",
       "      <th>3</th>\n",
       "      <td>6.369469</td>\n",
       "    </tr>\n",
       "    <tr>\n",
       "      <th>5</th>\n",
       "      <td>6.800000</td>\n",
       "    </tr>\n",
       "    <tr>\n",
       "      <th>6</th>\n",
       "      <td>5.890244</td>\n",
       "    </tr>\n",
       "    <tr>\n",
       "      <th>8</th>\n",
       "      <td>7.575000</td>\n",
       "    </tr>\n",
       "    <tr>\n",
       "      <th>10</th>\n",
       "      <td>6.487705</td>\n",
       "    </tr>\n",
       "    <tr>\n",
       "      <th>...</th>\n",
       "      <td>...</td>\n",
       "    </tr>\n",
       "    <tr>\n",
       "      <th>1996</th>\n",
       "      <td>6.436957</td>\n",
       "    </tr>\n",
       "    <tr>\n",
       "      <th>1997</th>\n",
       "      <td>5.945652</td>\n",
       "    </tr>\n",
       "    <tr>\n",
       "      <th>1998</th>\n",
       "      <td>6.000000</td>\n",
       "    </tr>\n",
       "    <tr>\n",
       "      <th>1999</th>\n",
       "      <td>6.596774</td>\n",
       "    </tr>\n",
       "    <tr>\n",
       "      <th>2000</th>\n",
       "      <td>5.391667</td>\n",
       "    </tr>\n",
       "  </tbody>\n",
       "</table>\n",
       "<p>1116 rows × 1 columns</p>\n",
       "</div>"
      ],
      "text/plain": [
       "      fresh_number\n",
       "id                \n",
       "3         6.369469\n",
       "5         6.800000\n",
       "6         5.890244\n",
       "8         7.575000\n",
       "10        6.487705\n",
       "...            ...\n",
       "1996      6.436957\n",
       "1997      5.945652\n",
       "1998      6.000000\n",
       "1999      6.596774\n",
       "2000      5.391667\n",
       "\n",
       "[1116 rows x 1 columns]"
      ]
     },
     "execution_count": 25,
     "metadata": {},
     "output_type": "execute_result"
    }
   ],
   "source": [
    "rt_reviews_numeric = rt_reviews.groupby(\"id\").agg({\"fresh_number\":\"mean\"})\n",
    "rt_reviews_numeric"
   ]
  },
  {
   "cell_type": "code",
   "execution_count": 26,
   "metadata": {},
   "outputs": [
    {
     "name": "stdout",
     "output_type": "stream",
     "text": [
      "<class 'pandas.core.frame.DataFrame'>\n",
      "Index: 294 entries, 145 to 176\n",
      "Data columns (total 11 columns):\n",
      " #   Column        Non-Null Count  Dtype  \n",
      "---  ------        --------------  -----  \n",
      " 0   id            294 non-null    int64  \n",
      " 1   synopsis      294 non-null    object \n",
      " 2   rating        294 non-null    object \n",
      " 3   genre         294 non-null    object \n",
      " 4   director      294 non-null    object \n",
      " 5   writer        294 non-null    object \n",
      " 6   theater_date  294 non-null    object \n",
      " 7   box_office    294 non-null    float64\n",
      " 8   runtime       294 non-null    object \n",
      " 9   studio        294 non-null    object \n",
      " 10  fresh_number  294 non-null    float64\n",
      "dtypes: float64(2), int64(1), object(8)\n",
      "memory usage: 27.6+ KB\n"
     ]
    }
   ],
   "source": [
    "#merge rotten tomatoes info with rotten tomatoes reviews\n",
    "rt_merge = movie_info.merge(rt_reviews_numeric, on=\"id\")\n",
    "rt_merge.sort_values(by=\"box_office\",ascending=False,inplace=True)\n",
    "rt_merge.info()"
   ]
  },
  {
   "cell_type": "code",
   "execution_count": 27,
   "metadata": {},
   "outputs": [
    {
     "data": {
      "text/plain": [
       "id              0\n",
       "synopsis        0\n",
       "rating          0\n",
       "genre           0\n",
       "director        0\n",
       "writer          0\n",
       "theater_date    0\n",
       "box_office      0\n",
       "runtime         0\n",
       "studio          0\n",
       "fresh_number    0\n",
       "dtype: int64"
      ]
     },
     "execution_count": 27,
     "metadata": {},
     "output_type": "execute_result"
    }
   ],
   "source": [
    "rt_merge.isna().sum()"
   ]
  },
  {
   "cell_type": "code",
   "execution_count": 28,
   "metadata": {},
   "outputs": [
    {
     "name": "stdout",
     "output_type": "stream",
     "text": [
      "<class 'pandas.core.frame.DataFrame'>\n",
      "Index: 26517 entries, 0 to 26516\n",
      "Data columns (total 11 columns):\n",
      " #   Column             Non-Null Count  Dtype         \n",
      "---  ------             --------------  -----         \n",
      " 0   genre_ids          26517 non-null  object        \n",
      " 1   id                 26517 non-null  int64         \n",
      " 2   original_language  26517 non-null  object        \n",
      " 3   original_title     26517 non-null  object        \n",
      " 4   popularity         26517 non-null  float64       \n",
      " 5   release_date       26517 non-null  datetime64[ns]\n",
      " 6   title              26517 non-null  object        \n",
      " 7   vote_average       26517 non-null  float64       \n",
      " 8   vote_count         26517 non-null  int64         \n",
      " 9   year               26517 non-null  int64         \n",
      " 10  month              26517 non-null  int64         \n",
      "dtypes: datetime64[ns](1), float64(2), int64(4), object(4)\n",
      "memory usage: 2.4+ MB\n"
     ]
    }
   ],
   "source": [
    "#Set data type as date and time, convert data as required\n",
    "tmdb_movies[\"release_date\"] = pd.to_datetime(tmdb_movies[\"release_date\"]) \n",
    "tmdb_movies[\"year\"] = tmdb_movies[\"release_date\"].dt.year.astype(int)\n",
    "tmdb_movies[\"month\"] = tmdb_movies[\"release_date\"].dt.month.astype(int)\n",
    "tmdb_movies.drop([\"Unnamed: 0\"], axis=1, inplace=True)\n",
    "tmdb_movies.info()"
   ]
  },
  {
   "cell_type": "code",
   "execution_count": 29,
   "metadata": {},
   "outputs": [
    {
     "data": {
      "text/plain": [
       "genre_ids            0\n",
       "id                   0\n",
       "original_language    0\n",
       "original_title       0\n",
       "popularity           0\n",
       "release_date         0\n",
       "title                0\n",
       "vote_average         0\n",
       "vote_count           0\n",
       "year                 0\n",
       "month                0\n",
       "dtype: int64"
      ]
     },
     "execution_count": 29,
     "metadata": {},
     "output_type": "execute_result"
    }
   ],
   "source": [
    "#no more null values in tmdb_movies\n",
    "tmdb_movies.isna().sum()"
   ]
  },
  {
   "cell_type": "code",
   "execution_count": 30,
   "metadata": {},
   "outputs": [
    {
     "ename": "DatabaseError",
     "evalue": "Execution failed on sql 'SELECT * FROM movie_basics': no such table: movie_basics",
     "output_type": "error",
     "traceback": [
      "\u001b[0;31m---------------------------------------------------------------------------\u001b[0m",
      "\u001b[0;31mOperationalError\u001b[0m                          Traceback (most recent call last)",
      "File \u001b[0;32m/opt/anaconda3/lib/python3.11/site-packages/pandas/io/sql.py:2262\u001b[0m, in \u001b[0;36mSQLiteDatabase.execute\u001b[0;34m(self, sql, params)\u001b[0m\n\u001b[1;32m   2261\u001b[0m \u001b[38;5;28;01mtry\u001b[39;00m:\n\u001b[0;32m-> 2262\u001b[0m     cur\u001b[38;5;241m.\u001b[39mexecute(sql, \u001b[38;5;241m*\u001b[39margs)\n\u001b[1;32m   2263\u001b[0m     \u001b[38;5;28;01mreturn\u001b[39;00m cur\n",
      "\u001b[0;31mOperationalError\u001b[0m: no such table: movie_basics",
      "\nThe above exception was the direct cause of the following exception:\n",
      "\u001b[0;31mDatabaseError\u001b[0m                             Traceback (most recent call last)",
      "Cell \u001b[0;32mIn[30], line 2\u001b[0m\n\u001b[1;32m      1\u001b[0m \u001b[38;5;66;03m#see table contents from all im.db tables\u001b[39;00m\n\u001b[0;32m----> 2\u001b[0m pd\u001b[38;5;241m.\u001b[39mread_sql(\u001b[38;5;124m\"\"\"\u001b[39m\u001b[38;5;124mSELECT * FROM movie_basics\u001b[39m\u001b[38;5;124m\"\"\"\u001b[39m, conn)\n",
      "File \u001b[0;32m/opt/anaconda3/lib/python3.11/site-packages/pandas/io/sql.py:654\u001b[0m, in \u001b[0;36mread_sql\u001b[0;34m(sql, con, index_col, coerce_float, params, parse_dates, columns, chunksize, dtype_backend, dtype)\u001b[0m\n\u001b[1;32m    652\u001b[0m \u001b[38;5;28;01mwith\u001b[39;00m pandasSQL_builder(con) \u001b[38;5;28;01mas\u001b[39;00m pandas_sql:\n\u001b[1;32m    653\u001b[0m     \u001b[38;5;28;01mif\u001b[39;00m \u001b[38;5;28misinstance\u001b[39m(pandas_sql, SQLiteDatabase):\n\u001b[0;32m--> 654\u001b[0m         \u001b[38;5;28;01mreturn\u001b[39;00m pandas_sql\u001b[38;5;241m.\u001b[39mread_query(\n\u001b[1;32m    655\u001b[0m             sql,\n\u001b[1;32m    656\u001b[0m             index_col\u001b[38;5;241m=\u001b[39mindex_col,\n\u001b[1;32m    657\u001b[0m             params\u001b[38;5;241m=\u001b[39mparams,\n\u001b[1;32m    658\u001b[0m             coerce_float\u001b[38;5;241m=\u001b[39mcoerce_float,\n\u001b[1;32m    659\u001b[0m             parse_dates\u001b[38;5;241m=\u001b[39mparse_dates,\n\u001b[1;32m    660\u001b[0m             chunksize\u001b[38;5;241m=\u001b[39mchunksize,\n\u001b[1;32m    661\u001b[0m             dtype_backend\u001b[38;5;241m=\u001b[39mdtype_backend,\n\u001b[1;32m    662\u001b[0m             dtype\u001b[38;5;241m=\u001b[39mdtype,\n\u001b[1;32m    663\u001b[0m         )\n\u001b[1;32m    665\u001b[0m     \u001b[38;5;28;01mtry\u001b[39;00m:\n\u001b[1;32m    666\u001b[0m         _is_table_name \u001b[38;5;241m=\u001b[39m pandas_sql\u001b[38;5;241m.\u001b[39mhas_table(sql)\n",
      "File \u001b[0;32m/opt/anaconda3/lib/python3.11/site-packages/pandas/io/sql.py:2326\u001b[0m, in \u001b[0;36mSQLiteDatabase.read_query\u001b[0;34m(self, sql, index_col, coerce_float, parse_dates, params, chunksize, dtype, dtype_backend)\u001b[0m\n\u001b[1;32m   2315\u001b[0m \u001b[38;5;28;01mdef\u001b[39;00m \u001b[38;5;21mread_query\u001b[39m(\n\u001b[1;32m   2316\u001b[0m     \u001b[38;5;28mself\u001b[39m,\n\u001b[1;32m   2317\u001b[0m     sql,\n\u001b[0;32m   (...)\u001b[0m\n\u001b[1;32m   2324\u001b[0m     dtype_backend: DtypeBackend \u001b[38;5;241m|\u001b[39m Literal[\u001b[38;5;124m\"\u001b[39m\u001b[38;5;124mnumpy\u001b[39m\u001b[38;5;124m\"\u001b[39m] \u001b[38;5;241m=\u001b[39m \u001b[38;5;124m\"\u001b[39m\u001b[38;5;124mnumpy\u001b[39m\u001b[38;5;124m\"\u001b[39m,\n\u001b[1;32m   2325\u001b[0m ) \u001b[38;5;241m-\u001b[39m\u001b[38;5;241m>\u001b[39m DataFrame \u001b[38;5;241m|\u001b[39m Iterator[DataFrame]:\n\u001b[0;32m-> 2326\u001b[0m     cursor \u001b[38;5;241m=\u001b[39m \u001b[38;5;28mself\u001b[39m\u001b[38;5;241m.\u001b[39mexecute(sql, params)\n\u001b[1;32m   2327\u001b[0m     columns \u001b[38;5;241m=\u001b[39m [col_desc[\u001b[38;5;241m0\u001b[39m] \u001b[38;5;28;01mfor\u001b[39;00m col_desc \u001b[38;5;129;01min\u001b[39;00m cursor\u001b[38;5;241m.\u001b[39mdescription]\n\u001b[1;32m   2329\u001b[0m     \u001b[38;5;28;01mif\u001b[39;00m chunksize \u001b[38;5;129;01mis\u001b[39;00m \u001b[38;5;129;01mnot\u001b[39;00m \u001b[38;5;28;01mNone\u001b[39;00m:\n",
      "File \u001b[0;32m/opt/anaconda3/lib/python3.11/site-packages/pandas/io/sql.py:2274\u001b[0m, in \u001b[0;36mSQLiteDatabase.execute\u001b[0;34m(self, sql, params)\u001b[0m\n\u001b[1;32m   2271\u001b[0m     \u001b[38;5;28;01mraise\u001b[39;00m ex \u001b[38;5;28;01mfrom\u001b[39;00m \u001b[38;5;21;01minner_exc\u001b[39;00m\n\u001b[1;32m   2273\u001b[0m ex \u001b[38;5;241m=\u001b[39m DatabaseError(\u001b[38;5;124mf\u001b[39m\u001b[38;5;124m\"\u001b[39m\u001b[38;5;124mExecution failed on sql \u001b[39m\u001b[38;5;124m'\u001b[39m\u001b[38;5;132;01m{\u001b[39;00msql\u001b[38;5;132;01m}\u001b[39;00m\u001b[38;5;124m'\u001b[39m\u001b[38;5;124m: \u001b[39m\u001b[38;5;132;01m{\u001b[39;00mexc\u001b[38;5;132;01m}\u001b[39;00m\u001b[38;5;124m\"\u001b[39m)\n\u001b[0;32m-> 2274\u001b[0m \u001b[38;5;28;01mraise\u001b[39;00m ex \u001b[38;5;28;01mfrom\u001b[39;00m \u001b[38;5;21;01mexc\u001b[39;00m\n",
      "\u001b[0;31mDatabaseError\u001b[0m: Execution failed on sql 'SELECT * FROM movie_basics': no such table: movie_basics"
     ]
    }
   ],
   "source": [
    "#see table contents from all im.db tables\n",
    "pd.read_sql(\"\"\"SELECT * FROM movie_basics\"\"\", conn)"
   ]
  },
  {
   "cell_type": "code",
   "execution_count": null,
   "metadata": {},
   "outputs": [],
   "source": [
    "pd.read_sql(\"\"\"SELECT * FROM directors\"\"\", conn)"
   ]
  },
  {
   "cell_type": "code",
   "execution_count": null,
   "metadata": {},
   "outputs": [],
   "source": [
    "pd.read_sql(\"\"\"SELECT * FROM known_for\"\"\", conn)"
   ]
  },
  {
   "cell_type": "code",
   "execution_count": null,
   "metadata": {},
   "outputs": [],
   "source": [
    "pd.read_sql(\"\"\"SELECT * FROM movie_akas\"\"\", conn)"
   ]
  },
  {
   "cell_type": "code",
   "execution_count": null,
   "metadata": {},
   "outputs": [],
   "source": [
    "pd.read_sql(\"\"\"SELECT * FROM movie_ratings\"\"\", conn)"
   ]
  },
  {
   "cell_type": "code",
   "execution_count": null,
   "metadata": {},
   "outputs": [],
   "source": [
    "pd.read_sql(\"\"\"SELECT * FROM persons\"\"\", conn)"
   ]
  },
  {
   "cell_type": "code",
   "execution_count": null,
   "metadata": {},
   "outputs": [],
   "source": [
    "pd.read_sql(\"\"\"SELECT * FROM principals\"\"\", conn)"
   ]
  },
  {
   "cell_type": "code",
   "execution_count": null,
   "metadata": {},
   "outputs": [],
   "source": [
    "pd.read_sql(\"\"\"SELECT * FROM writers\"\"\", conn)"
   ]
  },
  {
   "cell_type": "code",
   "execution_count": null,
   "metadata": {},
   "outputs": [],
   "source": [
    "#combine to make movie_summary table for data analysis\n",
    "#delete movie summary table if already exists\n",
    "cursor = conn.cursor()\n",
    "cursor.execute(\"DROP TABLE IF EXISTS movie_summary;\")\n",
    "conn.commit()\n",
    "\n",
    "# Create a new table with relevant columns using LEFT JOIN\n",
    "\n",
    "cursor.execute(\"\"\"CREATE TABLE movie_summary AS\n",
    "                SELECT \n",
    "                    mb.movie_id,\n",
    "                    mb.genres,\n",
    "                    mb.primary_title,\n",
    "                    mr.averagerating,\n",
    "                    GROUP_CONCAT(DISTINCT ma.region) AS regions,\n",
    "                    mr.numvotes\n",
    "                FROM \n",
    "                    movie_basics mb\n",
    "                LEFT JOIN \n",
    "                    movie_akas ma ON mb.movie_id = ma.movie_id\n",
    "                LEFT JOIN \n",
    "                    movie_ratings mr ON mb.movie_id = mr.movie_id\n",
    "                GROUP BY \n",
    "                    mb.movie_id, mb.primary_title, mr.numvotes;\"\"\")\n",
    "conn.commit()"
   ]
  },
  {
   "cell_type": "code",
   "execution_count": null,
   "metadata": {},
   "outputs": [],
   "source": [
    "#remove duplicates from imdb - movie summary and keep row with smallest ROWID for each movie ID\n",
    "\n",
    "cursor.execute(\"\"\"\n",
    "DELETE FROM movie_summary\n",
    "WHERE ROWID NOT IN (SELECT MIN(ROWID) \n",
    "                    FROM movie_summary \n",
    "                    GROUP BY movie_id);\"\"\")\n",
    "conn.commit()"
   ]
  },
  {
   "cell_type": "code",
   "execution_count": null,
   "metadata": {},
   "outputs": [],
   "source": [
    "#remove rows where numvotes is NULL\n",
    "cursor.execute(\"\"\"DELETE FROM movie_summary\n",
    "WHERE numvotes IS NULL;\"\"\")\n",
    "conn.commit()"
   ]
  },
  {
   "cell_type": "code",
   "execution_count": null,
   "metadata": {},
   "outputs": [],
   "source": [
    "pd.read_sql(\"\"\"SELECT * FROM movie_summary\"\"\", conn)"
   ]
  },
  {
   "cell_type": "markdown",
   "metadata": {},
   "source": [
    "## Data Modeling"
   ]
  },
  {
   "cell_type": "code",
   "execution_count": null,
   "metadata": {},
   "outputs": [],
   "source": [
    "#With movie_budgets, plot domestic and worldwide gross against month that movie is released\n",
    "df1 = movie_budgets.groupby(['month'])['domestic_gross'].median().to_frame()\n",
    "df2 = movie_budgets.groupby(['month'])['worldwide_gross'].median().to_frame()\n",
    "\n",
    "\n",
    "df1.merge(df2, how=\"inner\", on=\"month\").plot(kind=\"bar\")\n",
    "plt.xticks(rotation=0)\n",
    "plt.ylabel(\"Gross\")\n",
    "plt.xlabel(\"Month\")\n",
    "plt.title(\"Median gross for release per month\")\n",
    "plt.savefig(\"./images/median_gross_for_release_per_month.png\", dpi=150)\n",
    "plt.show()"
   ]
  },
  {
   "cell_type": "markdown",
   "metadata": {},
   "source": [
    "- Highest median for domestic gross is for releases in June, July, November. Roughly 100-150% more than other months.\n",
    "- Highest median for worldwide gross is for releases in July, Nov, June. Roughly 150-250% more than other months."
   ]
  },
  {
   "cell_type": "code",
   "execution_count": null,
   "metadata": {},
   "outputs": [],
   "source": [
    "# Convert month to categorical\n",
    "movie_budgets[\"month\"] = movie_budgets[\"month\"].astype(\"category\")\n",
    "\n",
    "# ANOVA for Domestic Gross\n",
    "domestic_model = smf.ols('domestic_gross ~ C(month)', data=movie_budgets).fit()\n",
    "domestic_anova = sm.stats.anova_lm(domestic_model, typ=2)\n",
    "\n",
    "# ANOVA for Worldwide Gross\n",
    "worldwide_model = smf.ols('worldwide_gross ~ C(month)', data=movie_budgets).fit()\n",
    "worldwide_anova = sm.stats.anova_lm(worldwide_model, typ=2)\n",
    "\n",
    "domestic_anova, worldwide_anova"
   ]
  },
  {
   "cell_type": "markdown",
   "metadata": {},
   "source": [
    "Interpretation\n",
    "- The ANOVA test indicates that, with 95% confidence, there is statistically significant difference between monthly domestic gross and worldwide gross data, which suggests that release month has an impact on domestic gross and worldwide gross\n",
    "- Worldwide gross is always bigger than domestic gross no matter the month. Bigger market size."
   ]
  },
  {
   "cell_type": "code",
   "execution_count": null,
   "metadata": {},
   "outputs": [],
   "source": [
    "#check Pearson's correlation between production budget and audience engagement\n",
    "\n",
    "# Merge on title\n",
    "combined_df = pd.merge(movie_budgets, tmdb_movies, on='title', how='inner')\n",
    "fig = sns.pairplot(combined_df, vars=['production_budget','domestic_gross','worldwide_gross','popularity','vote_count']);\n",
    "fig.savefig(\"correlation matrix betweem production budget and audience engagement.png\")"
   ]
  },
  {
   "cell_type": "code",
   "execution_count": null,
   "metadata": {},
   "outputs": [],
   "source": [
    "# Analyze correlation\n",
    "correlations = combined_df[['production_budget', 'domestic_gross', 'worldwide_gross', 'popularity', 'vote_count']].corr();\n",
    "correlations"
   ]
  },
  {
   "cell_type": "markdown",
   "metadata": {},
   "source": [
    "There is a strong positive relationship between production budget and worldwide gross (0.79) and between production budget and domestic gross (0.72).\n",
    "\n",
    "There is a moderate positive relationship between production budget and popularity (0.56) and production budget and vote count (0.6)\n",
    "\n",
    "There is a very strong positive relationship between domestic gross and worldwide gross (0.94)\n",
    "\n",
    "There is a moderate positive relationship between popularity and domestic gross (0.53) and moderate positive relationship between popularity and worldwide gross (0.56)\n",
    "\n",
    "There is a strong positive relationship between vote_count and domestic gross (0.71) and between vote_count and worldwide_gross (0.72)"
   ]
  },
  {
   "cell_type": "code",
   "execution_count": null,
   "metadata": {},
   "outputs": [],
   "source": [
    "#do multi regression analysis without domestic gross \n",
    "# because domestic gross and worldwide gross are colinear\n",
    "# Prepare data for regression\n",
    "X = combined_df[['production_budget']]\n",
    "y_vars = combined_df[['worldwide_gross', 'popularity', 'vote_count']]\n",
    "\n",
    "# Add constant\n",
    "X = sm.add_constant(X)\n",
    "\n",
    "# Run separate regressions for each y variable and store summaries\n",
    "#1 is for worlwide gross, 2 is for popularity, 3 is for vote count\n",
    "regression_summaries = {}\n",
    "for y_var in y_vars.columns:\n",
    "    model = sm.OLS(y_vars[y_var], X).fit()\n",
    "    regression_summaries[y_var] = model.summary()\n",
    "\n",
    "regression_summaries"
   ]
  },
  {
   "cell_type": "markdown",
   "metadata": {},
   "source": [
    "Worldwide gross:\n",
    "- R-squared = 0.631\n",
    "- For every \\\\$1.00 increase in budget > \\\\$3.43 increase in worldwide gross\n",
    "- Highly significant (p < 0.001)\n",
    "\n",
    "Popularity\n",
    "- R-squared = 0.310\n",
    "- Budget explains ~31% variance in popularity\n",
    "- The impact is tiny (8.97e-08) but this is statistically significant (p<0.001)\n",
    "\n",
    "Vote count\n",
    "- R-squared = 0.368\n",
    "- Budget explains ~37% of the variance in vote count\n",
    "- Effect is also tiny (3.17e-05) but this finding is statistically significant"
   ]
  },
  {
   "cell_type": "code",
   "execution_count": null,
   "metadata": {},
   "outputs": [],
   "source": [
    "#find overall domestic gross median from movie_gross dataset\n",
    "total_domestic_gross_median = movie_gross[\"domestic_gross\"].median()\n",
    "total_domestic_gross_median"
   ]
  },
  {
   "cell_type": "code",
   "execution_count": null,
   "metadata": {},
   "outputs": [],
   "source": [
    "#find overall foreign gross median from movie_gross dataset\n",
    "total_foreign_gross_median = movie_gross[\"foreign_gross\"].median()\n",
    "total_foreign_gross_median"
   ]
  },
  {
   "cell_type": "code",
   "execution_count": null,
   "metadata": {},
   "outputs": [],
   "source": [
    "#find studios with highest domestic gross\n",
    "#dataframe of studio domestic gross median of all the movies they have made\n",
    "studio_domestic_gross = movie_gross.groupby(['studio'])['domestic_gross'].median().to_frame(name = 'studio_domestic_gross').reset_index()\n",
    "\n",
    "#look for studios which median is higher or equal to total domestic gross median of the whole industry (based on dataset)\n",
    "studio_doing_well = studio_domestic_gross[studio_domestic_gross[\"studio_domestic_gross\"] >= total_domestic_gross_median]\n",
    "\n",
    "#number of studios \"doing well\"\n",
    "len(studio_doing_well)"
   ]
  },
  {
   "cell_type": "code",
   "execution_count": null,
   "metadata": {},
   "outputs": [],
   "source": [
    "studio_doing_well = studio_doing_well.sort_values(by=\"studio_domestic_gross\").set_index(\"studio\")"
   ]
  },
  {
   "cell_type": "code",
   "execution_count": null,
   "metadata": {},
   "outputs": [],
   "source": [
    "studio_doing_well"
   ]
  },
  {
   "cell_type": "code",
   "execution_count": null,
   "metadata": {},
   "outputs": [],
   "source": [
    "#do above process to find studios with highest foreign gross\n",
    "\n",
    "#dataframe of studio foreign gross median of all the movies they have made\n",
    "studio_foreign_gross = movie_gross.groupby(['studio'])['foreign_gross'].median().to_frame(name = 'studio_foreign_gross').reset_index()\n",
    "\n",
    "#look for studios which median is higher or equal to total foreign gross median of the whole industry (based on dataset)\n",
    "studio_doing_well_foreign = studio_foreign_gross[studio_foreign_gross[\"studio_foreign_gross\"] >= total_foreign_gross_median]\n",
    "\n",
    "#number of studios \"doing well\"\n",
    "len(studio_doing_well_foreign)"
   ]
  },
  {
   "cell_type": "code",
   "execution_count": null,
   "metadata": {},
   "outputs": [],
   "source": [
    "studio_doing_well_foreign = studio_doing_well_foreign.sort_values(by=\"studio_foreign_gross\", ascending=False).set_index(\"studio\")"
   ]
  },
  {
   "cell_type": "code",
   "execution_count": null,
   "metadata": {},
   "outputs": [],
   "source": [
    "studio_doing_well_foreign"
   ]
  },
  {
   "cell_type": "code",
   "execution_count": null,
   "metadata": {},
   "outputs": [],
   "source": [
    "#combine both dfs\n",
    "high_earning = studio_doing_well.merge(studio_doing_well_foreign, how=\"inner\", on=\"studio\")\n",
    "high_earning = high_earning.dropna()\n",
    "high_earning"
   ]
  },
  {
   "cell_type": "code",
   "execution_count": null,
   "metadata": {},
   "outputs": [],
   "source": [
    "high_earning.info()"
   ]
  },
  {
   "cell_type": "code",
   "execution_count": null,
   "metadata": {},
   "outputs": [],
   "source": [
    "ax = high_earning.plot(kind=\"barh\", figsize=(10,10))\n",
    "plt.xticks(rotation=0)\n",
    "plt.ylabel(\"Studio\")\n",
    "plt.xlabel(\"Gross\")\n",
    "plt.title(\"Gross for High-Earning Studios\")\n",
    "plt.savefig(\"./images/gross_for_high_earning_studios.png\", dpi=150)\n",
    "plt.show()"
   ]
  },
  {
   "cell_type": "code",
   "execution_count": null,
   "metadata": {},
   "outputs": [],
   "source": [
    "#How many movies did HC, GrtIndia, and P/DW released\n",
    "movie_gross[movie_gross[\"studio\"].isin([\"HC\",\"GrtIndia\",\"P/DW\"])]"
   ]
  },
  {
   "cell_type": "markdown",
   "metadata": {},
   "source": [
    "- Foreign gross beating domestic very significantly for HC, GrtIndia, P/DW\n",
    "- HC and GrtIndia only released one movie in the dataset, but highest foreign gross. May signify that number of movies released doesn't matter, but what matters is the size of the foreign market (Chinese and Indian population globally)."
   ]
  },
  {
   "cell_type": "code",
   "execution_count": null,
   "metadata": {},
   "outputs": [],
   "source": [
    "fig = sns.pairplot(movie_gross, vars=['domestic_gross','foreign_gross'])\n",
    "fig.savefig(\"Correlation between domestic gross and foreign gross.png\")"
   ]
  },
  {
   "cell_type": "code",
   "execution_count": null,
   "metadata": {},
   "outputs": [],
   "source": [
    "corr_matrix = movie_gross[['domestic_gross','foreign_gross']].corr()\n",
    "corr_matrix"
   ]
  },
  {
   "cell_type": "markdown",
   "metadata": {},
   "source": [
    "High domestic gross strongly correlates with high foreign gross (0.79)."
   ]
  },
  {
   "cell_type": "code",
   "execution_count": null,
   "metadata": {},
   "outputs": [],
   "source": [
    "#calculate average box office in rotten tomatoes - merged\n",
    "box_office_median = rt_merge[\"box_office\"].median()\n",
    "box_office_median"
   ]
  },
  {
   "cell_type": "code",
   "execution_count": null,
   "metadata": {},
   "outputs": [],
   "source": [
    "#filter rt_merge to only have movies making above the median\n",
    "rt_merge = rt_merge[rt_merge[\"box_office\"]>=box_office_median]\n",
    "rt_merge"
   ]
  },
  {
   "cell_type": "code",
   "execution_count": null,
   "metadata": {},
   "outputs": [],
   "source": [
    "rt_merge"
   ]
  },
  {
   "cell_type": "code",
   "execution_count": null,
   "metadata": {},
   "outputs": [],
   "source": [
    "#calculate what genre appears most in box office tops - merged\n",
    "\n",
    "genre_dict = {}\n",
    "\n",
    "for genre in rt_merge[\"genre\"]:\n",
    "    movie_genres = genre.split(\"|\")\n",
    "    for movie_genre in movie_genres:\n",
    "        if movie_genre not in genre_dict:\n",
    "            genre_dict[movie_genre] = 1\n",
    "        else:\n",
    "            genre_dict[movie_genre] += 1\n",
    "\n",
    "box_office_genre = pd.DataFrame.from_dict(genre_dict, orient='index',columns=[\"number_of_movies\"])\n",
    "\n",
    "df = box_office_genre.sort_values(by=\"number_of_movies\")\n",
    "df.plot(kind=\"barh\")\n",
    "plt.xticks(rotation=0)\n",
    "plt.ylabel(\"Genre\")\n",
    "plt.xlabel(\"Number of Movies\")\n",
    "plt.title(\"What is the Genre in Box Office Hits?\")\n",
    "plt.savefig(\"./images/genre_in_box_office_hits.png\", dpi=300, bbox_inches='tight')\n",
    "plt.show()"
   ]
  },
  {
   "cell_type": "code",
   "execution_count": null,
   "metadata": {},
   "outputs": [],
   "source": [
    "# Perform ANOVA using statsmodels\n",
    "anova_model = smf.ols('box_office ~ C(genre)', data=rt_merge).fit()\n",
    "anova_table = sm.stats.anova_lm(anova_model, typ=2)\n",
    "\n",
    "anova_table"
   ]
  },
  {
   "cell_type": "markdown",
   "metadata": {},
   "source": [
    "- Genres that appear in most movies doing well in box office according to Rotten Tomatoes: Comedy, Action and Adventure, Drama.\n",
    "- ANOVA test shows the differences of box office results for each genre is statistically significant (p<0.001)"
   ]
  },
  {
   "cell_type": "code",
   "execution_count": null,
   "metadata": {},
   "outputs": [],
   "source": [
    "#from merged data\n",
    "rating_dict = {}\n",
    "\n",
    "for rating in rt_merge[\"rating\"]:\n",
    "    if rating not in rating_dict:\n",
    "            rating_dict[rating] = 1\n",
    "    else:\n",
    "            rating_dict[rating] += 1\n",
    "\n",
    "box_office_rating = pd.DataFrame.from_dict(rating_dict, orient='index',columns=[\"number_of_movies\"])\n",
    "df = box_office_rating.sort_values(by=\"number_of_movies\", ascending=False)\n",
    "df.plot(kind=\"bar\")\n",
    "\n",
    "plt.xticks(rotation=0)\n",
    "plt.ylabel(\"Number of movies\")\n",
    "plt.xlabel(\"Rating\")\n",
    "plt.title(\"What is the Rating in Box Office Hits?\")\n",
    "plt.savefig(\"./images/rating_in_box_office_hits.png\", dpi=150)\n",
    "plt.show()"
   ]
  },
  {
   "cell_type": "markdown",
   "metadata": {},
   "source": [
    "Movies performing above average in box office usually has PG-13 ratings."
   ]
  },
  {
   "cell_type": "code",
   "execution_count": null,
   "metadata": {},
   "outputs": [],
   "source": [
    "#combo of genres making top box office\n",
    "ax = movie_info.groupby(\"genre\")[\"box_office\"].median().sort_values().tail(10).plot(kind=\"barh\",figsize=(10,5))\n",
    "plt.xticks(rotation=0)\n",
    "plt.ylabel(\"Genre combos\")\n",
    "plt.xlabel(\"Box Office\")\n",
    "plt.title(\"What are Genre Combos in Box Office Hits?\")\n",
    "plt.savefig(\"./images/genre_combos_in_box_office_hits.png\", dpi=300, bbox_inches='tight')\n",
    "plt.show()"
   ]
  },
  {
   "cell_type": "markdown",
   "metadata": {},
   "source": [
    "From Rotten Tomatoes, Action and Adventure, Drama, Romance and Science Fiction and Fantasy appear the most in this combo plot"
   ]
  },
  {
   "cell_type": "code",
   "execution_count": null,
   "metadata": {},
   "outputs": [],
   "source": [
    "tmdb_movies = tmdb_movies.sort_values(by=\"popularity\",ascending=False)\n",
    "tmdb_movies"
   ]
  },
  {
   "cell_type": "code",
   "execution_count": null,
   "metadata": {},
   "outputs": [],
   "source": [
    "genre_dict = {\"28\":  \"Action\", \"12\":  \"Adventure\", \"16\":  \"Animation\", \"35\":  \"Comedy\", \"80\":  \"Crime\", \n",
    "              \"99\":  \"Documentary\", \"18\":  \"Drama\", \"10751\":   \"Family\", \"14\":  \"Fantasy\", \"36\":  \"History\",\n",
    "              \"27\":  \"Horror\", \"10402\":   \"Music\", \"9648\":    \"Mystery\", \"10749\":   \"Romance\",\n",
    "              \"878\": \"Science Fiction\", \"10770\":   \"TV Movie\", \"53\":  \"Thriller\", \"10752\":   \"War\",\n",
    "              \"37\":  \"Western\"}"
   ]
  },
  {
   "cell_type": "code",
   "execution_count": null,
   "metadata": {},
   "outputs": [],
   "source": [
    "def change_genres(x):\n",
    "    genres = []\n",
    "    genre_list = x.strip(\"]\").strip(\"[\").split(\",\")\n",
    "    genre_list = [id.strip(\" \") for id in genre_list]\n",
    "    for genre in genre_list:\n",
    "        if genre in genre_dict:\n",
    "            genres.append(genre_dict[genre])\n",
    "        else:\n",
    "            genres.append(\"Other\")\n",
    "    return \"|\".join(genres)"
   ]
  },
  {
   "cell_type": "code",
   "execution_count": null,
   "metadata": {},
   "outputs": [],
   "source": [
    "tmdb_movies[\"genre\"] = tmdb_movies[\"genre_ids\"].apply(lambda x: change_genres(x))"
   ]
  },
  {
   "cell_type": "code",
   "execution_count": null,
   "metadata": {},
   "outputs": [],
   "source": [
    "popular_movies = tmdb_movies[tmdb_movies.popularity >= tmdb_movies[\"popularity\"].mean()]\n",
    "popular_movies = popular_movies.sort_values(by=\"popularity\", ascending=False)\n",
    "popular_movies"
   ]
  },
  {
   "cell_type": "code",
   "execution_count": null,
   "metadata": {},
   "outputs": [],
   "source": [
    "#combo of genres making a movie popular\n",
    "ax = popular_movies.groupby(\"genre\")[\"popularity\"].median().sort_values().tail(10).plot(kind=\"barh\")\n",
    "\n",
    "plt.xticks(rotation=0)\n",
    "plt.ylabel(\"Genre combos\")\n",
    "plt.xlabel(\"Popularity Score\")\n",
    "plt.title(\"What are Genre Combos that are Most Popular?\")\n",
    "plt.savefig(\"./images/most_popular_genre_combos_tmdb.png\", dpi=300, bbox_inches='tight')\n",
    "plt.show()"
   ]
  },
  {
   "cell_type": "markdown",
   "metadata": {},
   "source": [
    "From TMDB dataset, Action and Adventure, Comedy, Science Fiction, and Drama appear a lot in this combo plot"
   ]
  },
  {
   "cell_type": "code",
   "execution_count": null,
   "metadata": {},
   "outputs": [],
   "source": [
    "#individual genres in popular movies\n",
    "genre_count = {}\n",
    "genre_count[\"Action and Adventure\"] = 0\n",
    "\n",
    "for genre in popular_movies[\"genre\"]:\n",
    "    movie_genres = genre.split(\"|\")\n",
    "    for movie_genre in movie_genres:\n",
    "        if movie_genre in [\"Action\",\"Adventure\"]:\n",
    "            genre_count[\"Action and Adventure\"] += 1\n",
    "        elif movie_genre not in genre_count:\n",
    "            genre_count[movie_genre] = 1\n",
    "        else:\n",
    "            genre_count[movie_genre] += 1\n",
    "\n",
    "popular_genre = pd.DataFrame.from_dict(genre_count, orient='index',columns=[\"number_of_movies\"])\n",
    "df = popular_genre.sort_values(by=\"number_of_movies\", ascending=False).head(10)\n",
    "\n",
    "df.plot(kind=\"bar\", figsize=(13,5))\n",
    "plt.xticks(rotation=45)\n",
    "plt.ylabel(\"Number of Popular Movies\")\n",
    "plt.xlabel(\"Genre\")\n",
    "plt.title(\"Most Popular Genre in TMDB\")\n",
    "plt.savefig(\"./images/most_popular_genre_tmdb.png\", dpi=300, bbox_inches='tight')\n",
    "plt.show()"
   ]
  },
  {
   "cell_type": "markdown",
   "metadata": {},
   "source": [
    "Individual genres that appear in most popular movies based on TMDB: Comedy, Action and Adventure, Drama"
   ]
  },
  {
   "cell_type": "code",
   "execution_count": null,
   "metadata": {},
   "outputs": [],
   "source": [
    "# Explode the genres to handle individual genre entries per movie\n",
    "exploded_popular_movies = popular_movies.copy()\n",
    "exploded_popular_movies['genre'] = exploded_popular_movies['genre'].str.split('|')\n",
    "exploded_popular_movies = exploded_popular_movies.explode('genre')\n",
    "\n",
    "# Perform ANOVA on popularity across genres\n",
    "anova_model_popularity = smf.ols('popularity ~ C(genre)', data=exploded_popular_movies).fit()\n",
    "anova_table_popularity = sm.stats.anova_lm(anova_model_popularity, typ=2)\n",
    "\n",
    "anova_table_popularity"
   ]
  },
  {
   "cell_type": "markdown",
   "metadata": {},
   "source": [
    "ANOVA test indicates statistically significant effect from genre on popularity (p<0.001)."
   ]
  },
  {
   "cell_type": "code",
   "execution_count": null,
   "metadata": {},
   "outputs": [],
   "source": [
    "#load movie_summary table from imdb to analyse data\n",
    "movie_summary_df = pd.read_sql(\"SELECT * FROM movie_summary;\", conn)\n",
    "\n",
    "#find top genre combos against numvote\n",
    "genre_combo_votes = (\n",
    "    movie_summary_df.groupby('genres')['numvotes']\n",
    "    .sum()\n",
    "    .sort_values(ascending=False)\n",
    "    .head(10)\n",
    ")\n",
    "\n",
    "# Plot top 10 genre combinations by total votes\n",
    "plt.figure(figsize=(10, 6))\n",
    "genre_combo_votes.plot(kind='bar')\n",
    "plt.xlabel('Genre Combinations')\n",
    "plt.ylabel('Total Votes')\n",
    "plt.title('Top 10 Genre Combinations by Total Votes')\n",
    "plt.xticks(rotation=45, ha='right')\n",
    "plt.tight_layout()\n",
    "plt.savefig(\"./images/top_genre_combos_in_imdb.png\", dpi=150)\n",
    "plt.show()"
   ]
  },
  {
   "cell_type": "markdown",
   "metadata": {},
   "source": [
    "Most popular genre combinations in IMDB: Action and Adventure, Sci-Fi, Comedy, Drama"
   ]
  },
  {
   "cell_type": "code",
   "execution_count": null,
   "metadata": {},
   "outputs": [],
   "source": [
    "#Split to individual genres\n",
    "movie_summary_df['genres'] = movie_summary_df['genres'].str.split(',')\n",
    "exploded_df = movie_summary_df.explode('genres')\n",
    "exploded_df"
   ]
  },
  {
   "cell_type": "code",
   "execution_count": null,
   "metadata": {},
   "outputs": [],
   "source": [
    "# in this dataset, number of movies in the sample size (based on genres or regions) are not equal\n",
    "# some sample set has 1 movie, some have a lot more\n",
    "# find minimum number of movie via effect size\n",
    "\n",
    "# determine cohen's d to be d=0.2 to be confident that the small differences in average ratings \n",
    "# and votes aren't just due to random variation\n",
    "# 95% confidence and 80% power\n",
    "\n",
    "from scipy.stats import norm\n",
    "\n",
    "# Define parameters\n",
    "z_alpha_2 = norm.ppf(1 - 0.05 / 2)  # two-tailed test, 95% confidence\n",
    "z_beta = norm.ppf(0.8)  # 80% power\n",
    "\n",
    "# Effect sizes\n",
    "effect_sizes = {'Small (d=0.2)': 0.2, 'Medium (d=0.5)': 0.5, 'Large (d=0.8)': 0.8}\n",
    "\n",
    "# Calculate required sample sizes\n",
    "sample_sizes = {label: ((z_alpha_2 + z_beta) / d) ** 2 for label, d in effect_sizes.items()}\n",
    "sample_sizes_df = pd.DataFrame(list(sample_sizes.items()), columns=['Effect Size', 'Minimum Sample Size (per group)'])\n",
    "\n",
    "\n",
    "sample_sizes_df"
   ]
  },
  {
   "cell_type": "code",
   "execution_count": null,
   "metadata": {},
   "outputs": [],
   "source": [
    "# Apply the filter and aggregation for genres with at least 196 movies\n",
    "filtered_exploded_df = exploded_df.groupby('genres').filter(lambda x: len(x) >= 196)\n",
    "\n",
    "# Group by genre and calculate total votes and movie count\n",
    "total_votes_by_genre = filtered_exploded_df.groupby('genres').agg(\n",
    "    total_votes=('numvotes', 'sum'),\n",
    "    movie_count=('movie_id', 'count')\n",
    ").reset_index()\n",
    "\n",
    "\n",
    "total_votes_by_genre"
   ]
  },
  {
   "cell_type": "code",
   "execution_count": null,
   "metadata": {},
   "outputs": [],
   "source": [
    "# Sort by total_votes descending\n",
    "top_genres_by_votes = total_votes_by_genre.sort_values(by='total_votes', ascending=False).head(10)\n",
    "top_genres_by_votes"
   ]
  },
  {
   "cell_type": "code",
   "execution_count": null,
   "metadata": {},
   "outputs": [],
   "source": [
    "# Create bar plot for top genres by total votes\n",
    "plt.figure(figsize=(10, 6))\n",
    "plt.bar(top_genres_by_votes['genres'], top_genres_by_votes['total_votes'])\n",
    "plt.xlabel('Genres')\n",
    "plt.ylabel('Total Votes')\n",
    "plt.title('Top Genres by Total Votes from IMDB')\n",
    "plt.xticks(rotation=45)\n",
    "plt.tight_layout()\n",
    "plt.savefig(\"./images/top_indv_genres_imdb.png\", dpi=150)\n",
    "plt.show()"
   ]
  },
  {
   "cell_type": "markdown",
   "metadata": {},
   "source": [
    "Individual genres that appear most popular in IMDB: Drama, Action, Adventure, Comedy"
   ]
  },
  {
   "cell_type": "code",
   "execution_count": null,
   "metadata": {},
   "outputs": [],
   "source": [
    "# Prepare data by filtering only top 10 genres\n",
    "top_genres = top_genres_by_votes['genres'].tolist()\n",
    "top_genre_data = exploded_df[exploded_df['genres'].isin(top_genres)]\n",
    "\n",
    "# Convert genre to categorical\n",
    "top_genre_data['genres'] = top_genre_data['genres'].astype('category')\n",
    "\n",
    "# Run OLS model and ANOVA\n",
    "model = smf.ols('numvotes ~ C(genres)', data=top_genre_data).fit()\n",
    "anova_results = sm.stats.anova_lm(model, typ=2)\n",
    "\n",
    "anova_results"
   ]
  },
  {
   "cell_type": "markdown",
   "metadata": {},
   "source": [
    "The F-statistic suggests strong effect on genre on vote totals.\n",
    "P < 0.001 so this effect is statistically significant"
   ]
  },
  {
   "cell_type": "code",
   "execution_count": null,
   "metadata": {},
   "outputs": [],
   "source": [
    "#create new pandas df from movie_summary to make region-based analysis\n",
    "region_summary_df = pd.read_sql(\"SELECT * FROM movie_summary;\", conn)"
   ]
  },
  {
   "cell_type": "code",
   "execution_count": null,
   "metadata": {},
   "outputs": [],
   "source": [
    "# want to analyse movies based on regions where the movie is released in\n",
    "# Split and explode regions to analyze vote counts by individual region\n",
    "region_summary_df['regions'] = region_summary_df['regions'].str.split(',')\n",
    "region_summary_df['region_count'] = region_summary_df['regions'].apply(lambda x: len(x) if isinstance(x, list) else 0)\n",
    "\n",
    "# Analyze correlation between number of regions and numvotes\n",
    "region_vote_relation_full = region_summary_df.groupby('region_count').agg(\n",
    "    average_votes=('numvotes', 'mean'),\n",
    "    total_votes=('numvotes', 'sum'),\n",
    "    movie_count=('movie_id', 'count')\n",
    ").reset_index().sort_values(by='region_count')\n",
    "\n",
    "region_vote_relation_full"
   ]
  },
  {
   "cell_type": "code",
   "execution_count": null,
   "metadata": {},
   "outputs": [],
   "source": [
    "# Apply minimum sample size threshold of 196 movies per region count group\n",
    "region_vote_filtered = region_vote_relation_full[region_vote_relation_full['movie_count'] >= 196]\n",
    "region_vote_filtered"
   ]
  },
  {
   "cell_type": "code",
   "execution_count": null,
   "metadata": {},
   "outputs": [],
   "source": [
    "# Prepare data for plotting\n",
    "x = region_vote_filtered['region_count']\n",
    "y = region_vote_filtered['average_votes']\n",
    "\n",
    "# Fit a linear regression line\n",
    "coefficients = np.polyfit(x, y, 1)\n",
    "poly_eq = np.poly1d(coefficients)\n",
    "y_fit = poly_eq(x)\n",
    "\n",
    "# Plot scatter and regression line\n",
    "plt.figure(figsize=(10, 6))\n",
    "plt.scatter(x, y, label='Average Votes', color='blue')\n",
    "plt.plot(x, y_fit, label=f'Fit Line: y = {coefficients[0]:.2f}x + {coefficients[1]:.2f}', color='red')\n",
    "plt.xlabel('Region Count')\n",
    "plt.ylabel('Average Votes')\n",
    "plt.title('Average Votes vs. Region Count with Linear Fit')\n",
    "plt.legend()\n",
    "plt.grid(True)\n",
    "plt.tight_layout()\n",
    "plt.savefig(\"./Images/Average_votes_vs_region_count_with_best_fit_line.png\")\n",
    "plt.show()"
   ]
  },
  {
   "cell_type": "code",
   "execution_count": null,
   "metadata": {},
   "outputs": [],
   "source": [
    "from scipy.stats import spearmanr\n",
    "\n",
    "# Filter for region_count groups with sufficient sample size\n",
    "region_vote_filtered = region_summary_df.groupby('region_count').filter(lambda x: len(x) >= 196)\n",
    "\n",
    "# Convert region_count to categorical\n",
    "region_vote_filtered['region_count'] = region_vote_filtered['region_count'].astype('category')\n",
    "\n",
    "# Run ANOVA using statsmodels\n",
    "anova_model = smf.ols('numvotes ~ C(region_count)', data=region_vote_filtered).fit()\n",
    "anova_table = sm.stats.anova_lm(anova_model, typ=2)\n",
    "\n",
    "# Spearman correlation for comparison\n",
    "spearman_corr, spearman_p = spearmanr(region_vote_filtered['region_count'].cat.codes, region_vote_filtered['numvotes'])\n",
    "\n",
    "anova_table\n",
    "# print(f\"ANOVA F-statistic: {anova_stat: .10f} \\n\"\n",
    "#       f\"ANOVA p-value: {anova_p: .10f}, \\n\"\n",
    "#       f\"Spearman correlation: {spearman_corr: .10f}, \\n\"\n",
    "#       f\"Spearman p-value: {spearman_p:.10f}\")\n",
    "    "
   ]
  },
  {
   "cell_type": "code",
   "execution_count": null,
   "metadata": {},
   "outputs": [],
   "source": [
    "print(f\"Spearman correlation: {spearman_corr: .10f}, \\n\"\n",
    "      f\"Spearman p-value: {spearman_p:.10f}\")"
   ]
  },
  {
   "cell_type": "markdown",
   "metadata": {},
   "source": [
    "- There is statistically significant differences (p<0.001) for number of votes across different region groups\n",
    "- There is moderate positive correlation between the number of regions a movie is released in and number of votes. As the number of regions increases, number of votes tend to increase"
   ]
  },
  {
   "cell_type": "markdown",
   "metadata": {},
   "source": [
    "## Evaluation\n"
   ]
  },
  {
   "cell_type": "markdown",
   "metadata": {},
   "source": [
    "### Seasonality of movie release success\n",
    "- Highest domestic gross median for movie releases is for releases in June, July, November. Roughly 100-150% more than other months.\n",
    "- Highest worldwide gross median for movie releases is for releases in July, Nov, June. Roughly 150-250% more than other months.\n",
    "- The ANOVA test indicates that, with 95% confidence, there is statistically significant difference between monthly domestic gross and worldwide gross data, which suggests that release month has an impact on domestic gross and worldwide gross.\n",
    "- This is aligned with an industry phenomenon called \"dump months\". There are two times of the year when American filmmakers and distributors typically have lower commercial and critical expectations for new theatrical releases. During these periods, domestic audiences are generally smaller compared to the rest of the year. January and February are most often characterized this way, with August and September occasionally included."
   ]
  },
  {
   "cell_type": "markdown",
   "metadata": {},
   "source": [
    "### Genre of successful movies\n",
    "\n",
    "- Genre of movies that consistently appear as most highly-voted or make above average in box offices, are Drama, Comedy, Action and Adventure. This is both true for genre combinations and individual genre analysis.\n",
    "- ANOVA test on data from IMDB shows large F-statistic, which suggests strong effect from genre on vote total with p<0.001.\n",
    "- ANOVA test on data from Rotten Tomatoes shows the differences of box office results for each genre is statistically significant (p<0.001)\n",
    "- ANOVA test on data from TMDB indicates genre has a statistically significant effect on popularity (p<0.001).\n",
    "- Running data models on dataset from IMDB, Rotten Tomatoes, and TMDB generate similar results, although the users of these sites are quite different, which means that bias has been minimised.\n",
    "\n",
    ">IMDB:\n",
    "> - Older audience: Skews to slightly older demographics as IMDbs has been around since the early 1990s.\n",
    "> - Cinephiles: IMDB only accepts ratings from registered users and it has weighted ratings, so not all votes carry equal weight.\n",
    "\n",
    "> Rotten Tomatoes:\n",
    "\n",
    "> - General Audience: Many casual moviegoers use Rotten Tomatoes to get a quick sense of a movie's quality through its aggregate score.\n",
    "> - Critics and Reviewers: Professional critics often contribute reviews that form the basis of the Tomatometer score.\n",
    "> - Industry Professionals: Filmmakers, marketers, and studios might use Rotten Tomatoes to gauge critical reception and audience response.\n",
    "\n",
    "> TMDB (The Movie Database):\n",
    "\n",
    "> - Film Enthusiasts and Hobbyists: TMDB users often include more dedicated movie and TV show fans who enjoy contributing to and maintaining a comprehensive database.\n",
    "> - Developers and Tech-Savvy Users: TMDB offers a robust API that developers use to integrate movie and TV show data into their applications.\n",
    "> - Content Creators and Researchers: People creating content or conducting research might use TMDB for its extensive and detailed information on movies, TV shows, actors, and crew members.\n",
    "\n"
   ]
  },
  {
   "cell_type": "markdown",
   "metadata": {},
   "source": [
    "### Investing in production budget and marketing to increase potential for movie success\n",
    "- Popularity has a quite high correlation to domestic gross and foreign gross (0.53 - 0.55). This means that focusing on marketing is essential to increase popularity of the movie to increase viewing.\n",
    "- From modelling The Numbers dataset, we see that the worldwide gross is always higher than domestic gross no matter the month. This is because the worldwide market size is always bigger than domestic. Thus, capturing worldwide market should be an objective to increase potential earnings.\n",
    "- We also see that there is a strong positive relationship between production budget and domestic as well as worldwide gross. Higher production budget may indicate better production quality and more well-known/ qualified talents or crew hired for production.\n",
    "    > R-squared = 0.631.\n",
    "    > For every \\\\$1.00 increase in budget > \\\\$3.43 increase in worldwide gross (p<0.001)\n",
    "- From modelling IMDb dataset, we see that: the more regions a movie is released in, the number of votes (positive audience reception) tend to increase.\n",
    "    > ANOVA test indicates that there is statistically significant differences (p<0.001) for number of votes across different region count groups\n",
    "- Therefore, in order to capture bigger box office earnings and positive audience reception, Microsoft needs to accommodate medium to large budget, and look at ways to expand market for the movie. For example, release in more regions, foreign cultural references, foreign language subtitles, etc. Large markets include global Chinese and Indian viewers.\n"
   ]
  },
  {
   "cell_type": "markdown",
   "metadata": {},
   "source": [
    "## Conclusions\n",
    "\n",
    "### Recommendations\n",
    "- Plan to release first movie in June, July, or November\n",
    "- Pick main genre of movie to be Drama - there can be a combination with Action/ Adventure or Comedy.\n",
    "- Invest in production budget to improve movie quality, and invest in marketing to boost popularity of movie before and during release. Release in more countries wherever possible. It is worth inserting cultural easter eggs or relatable references to capture large global markets, especially the Chinese and/or Indian populations.\n",
    "\n",
    "### Future steps\n",
    "- Determine which movies are more popular and well-liked by audience: standalone vs sequel/ part of franchise.\n",
    "- Analyse the combinations of people working in successful movies to identify dream team, especially for production and behind-the-scenes.\n",
    "- Analyse what type of movies didn't do well in box office and why."
   ]
  }
 ],
 "metadata": {
  "kernelspec": {
   "display_name": "Python 3 (ipykernel)",
   "language": "python",
   "name": "python3"
  },
  "language_info": {
   "codemirror_mode": {
    "name": "ipython",
    "version": 3
   },
   "file_extension": ".py",
   "mimetype": "text/x-python",
   "name": "python",
   "nbconvert_exporter": "python",
   "pygments_lexer": "ipython3",
   "version": "3.11.7"
  }
 },
 "nbformat": 4,
 "nbformat_minor": 4
}
